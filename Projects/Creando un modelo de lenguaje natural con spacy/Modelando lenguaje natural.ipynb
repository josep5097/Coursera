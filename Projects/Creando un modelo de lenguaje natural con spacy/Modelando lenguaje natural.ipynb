{
 "cells": [
  {
   "cell_type": "markdown",
   "metadata": {},
   "source": [
    "# Creando un modelo de lenguaje natural con Spacy"
   ]
  },
  {
   "cell_type": "markdown",
   "metadata": {},
   "source": [
    "# 1. Introducción a Spacy"
   ]
  },
  {
   "cell_type": "markdown",
   "metadata": {},
   "source": [
    "Link: https://spacy.io/"
   ]
  },
  {
   "cell_type": "code",
   "execution_count": 1,
   "metadata": {},
   "outputs": [],
   "source": [
    "import spacy"
   ]
  },
  {
   "cell_type": "code",
   "execution_count": 2,
   "metadata": {},
   "outputs": [],
   "source": [
    "nlp = spacy.load(\"es_core_news_sm\")"
   ]
  },
  {
   "cell_type": "code",
   "execution_count": 3,
   "metadata": {},
   "outputs": [
    {
     "data": {
      "text/plain": [
       "<spacy.lang.es.Spanish at 0x159663ca7c8>"
      ]
     },
     "execution_count": 3,
     "metadata": {},
     "output_type": "execute_result"
    }
   ],
   "source": [
    "nlp"
   ]
  },
  {
   "cell_type": "code",
   "execution_count": 4,
   "metadata": {},
   "outputs": [],
   "source": [
    "documento = \"\"\"La situación de la pandemia en el mundo cada vez se vuelve más compleja. En la actualidad, cada país está afectado por distintos problemas sociales, sanitarios y económicos, lo que ha llevado a una merma en la calidad de vida de las personas, principalmente de bajos recursos. Dicho esto, es fundamental tener políticas adecuadas para enfrentar la incertidumbre. \"\"\""
   ]
  },
  {
   "cell_type": "code",
   "execution_count": 5,
   "metadata": {},
   "outputs": [],
   "source": [
    "documento_spacy = nlp(documento)"
   ]
  },
  {
   "cell_type": "code",
   "execution_count": 6,
   "metadata": {},
   "outputs": [
    {
     "data": {
      "text/plain": [
       "spacy.tokens.doc.Doc"
      ]
     },
     "execution_count": 6,
     "metadata": {},
     "output_type": "execute_result"
    }
   ],
   "source": [
    "type(documento_spacy)"
   ]
  },
  {
   "cell_type": "markdown",
   "metadata": {},
   "source": [
    "## 2. Preprocesamiento del texto"
   ]
  },
  {
   "cell_type": "code",
   "execution_count": 7,
   "metadata": {},
   "outputs": [
    {
     "name": "stdout",
     "output_type": "stream",
     "text": [
      "La\n",
      "situación\n",
      "de\n",
      "la\n",
      "pandemia\n",
      "en\n",
      "el\n",
      "mundo\n",
      "cada\n",
      "vez\n",
      "se\n",
      "vuelve\n",
      "más\n",
      "compleja\n",
      ".\n",
      "En\n",
      "la\n",
      "actualidad\n",
      ",\n",
      "cada\n",
      "país\n",
      "está\n",
      "afectado\n",
      "por\n",
      "distintos\n",
      "problemas\n",
      "sociales\n",
      ",\n",
      "sanitarios\n",
      "y\n",
      "económicos\n",
      ",\n",
      "lo\n",
      "que\n",
      "ha\n",
      "llevado\n",
      "a\n",
      "una\n",
      "merma\n",
      "en\n",
      "la\n",
      "calidad\n",
      "de\n",
      "vida\n",
      "de\n",
      "las\n",
      "personas\n",
      ",\n",
      "principalmente\n",
      "de\n",
      "bajos\n",
      "recursos\n",
      ".\n",
      "Dicho\n",
      "esto\n",
      ",\n",
      "es\n",
      "fundamental\n",
      "tener\n",
      "políticas\n",
      "adecuadas\n",
      "para\n",
      "enfrentar\n",
      "la\n",
      "incertidumbre\n",
      ".\n"
     ]
    }
   ],
   "source": [
    "for token in documento_spacy:\n",
    "    print(token)"
   ]
  },
  {
   "cell_type": "code",
   "execution_count": 8,
   "metadata": {},
   "outputs": [
    {
     "name": "stdout",
     "output_type": "stream",
     "text": [
      "La -- True -- False\n",
      "situación -- False -- False\n",
      "de -- True -- False\n",
      "la -- True -- False\n",
      "pandemia -- False -- False\n",
      "en -- True -- False\n",
      "el -- True -- False\n",
      "mundo -- False -- False\n",
      "cada -- True -- False\n",
      "vez -- True -- False\n",
      "se -- True -- False\n",
      "vuelve -- False -- False\n",
      "más -- True -- False\n",
      "compleja -- False -- False\n",
      ". -- False -- True\n",
      "En -- True -- False\n",
      "la -- True -- False\n",
      "actualidad -- False -- False\n",
      ", -- False -- True\n",
      "cada -- True -- False\n",
      "país -- False -- False\n",
      "está -- True -- False\n",
      "afectado -- False -- False\n",
      "por -- True -- False\n",
      "distintos -- False -- False\n",
      "problemas -- False -- False\n",
      "sociales -- False -- False\n",
      ", -- False -- True\n",
      "sanitarios -- False -- False\n",
      "y -- False -- False\n",
      "económicos -- False -- False\n",
      ", -- False -- True\n",
      "lo -- True -- False\n",
      "que -- True -- False\n",
      "ha -- True -- False\n",
      "llevado -- False -- False\n",
      "a -- False -- False\n",
      "una -- True -- False\n",
      "merma -- False -- False\n",
      "en -- True -- False\n",
      "la -- True -- False\n",
      "calidad -- False -- False\n",
      "de -- True -- False\n",
      "vida -- False -- False\n",
      "de -- True -- False\n",
      "las -- True -- False\n",
      "personas -- False -- False\n",
      ", -- False -- True\n",
      "principalmente -- True -- False\n",
      "de -- True -- False\n",
      "bajos -- False -- False\n",
      "recursos -- False -- False\n",
      ". -- False -- True\n",
      "Dicho -- True -- False\n",
      "esto -- True -- False\n",
      ", -- False -- True\n",
      "es -- True -- False\n",
      "fundamental -- False -- False\n",
      "tener -- True -- False\n",
      "políticas -- False -- False\n",
      "adecuadas -- False -- False\n",
      "para -- True -- False\n",
      "enfrentar -- False -- False\n",
      "la -- True -- False\n",
      "incertidumbre -- False -- False\n",
      ". -- False -- True\n"
     ]
    }
   ],
   "source": [
    "for token in documento_spacy:\n",
    "    print(token.text, '--', token.is_stop, '--',token.is_punct)"
   ]
  },
  {
   "cell_type": "code",
   "execution_count": 9,
   "metadata": {},
   "outputs": [],
   "source": [
    "documento_spacy_limpio = [token for token in documento_spacy if not token.is_stop and not token.is_punct]"
   ]
  },
  {
   "cell_type": "code",
   "execution_count": 10,
   "metadata": {},
   "outputs": [
    {
     "data": {
      "text/plain": [
       "[situación,\n",
       " pandemia,\n",
       " mundo,\n",
       " vuelve,\n",
       " compleja,\n",
       " actualidad,\n",
       " país,\n",
       " afectado,\n",
       " distintos,\n",
       " problemas,\n",
       " sociales,\n",
       " sanitarios,\n",
       " y,\n",
       " económicos,\n",
       " llevado,\n",
       " a,\n",
       " merma,\n",
       " calidad,\n",
       " vida,\n",
       " personas,\n",
       " bajos,\n",
       " recursos,\n",
       " fundamental,\n",
       " políticas,\n",
       " adecuadas,\n",
       " enfrentar,\n",
       " incertidumbre]"
      ]
     },
     "execution_count": 10,
     "metadata": {},
     "output_type": "execute_result"
    }
   ],
   "source": [
    "documento_spacy_limpio"
   ]
  },
  {
   "cell_type": "code",
   "execution_count": 11,
   "metadata": {},
   "outputs": [
    {
     "name": "stdout",
     "output_type": "stream",
     "text": [
      "situación\n",
      "pandemia\n",
      "mundo\n",
      "volver\n",
      "complejo\n",
      "actualidad\n",
      "país\n",
      "afectado\n",
      "distinto\n",
      "problema\n",
      "social\n",
      "sanitario\n",
      "y\n",
      "económico\n",
      "llevar\n",
      "a\n",
      "merma\n",
      "calidad\n",
      "vida\n",
      "persona\n",
      "bajo\n",
      "recurso\n",
      "fundamental\n",
      "política\n",
      "adecuado\n",
      "enfrentar\n",
      "incertidumbre\n"
     ]
    }
   ],
   "source": [
    "for token in documento_spacy_limpio:\n",
    "    print(token.lemma_)"
   ]
  },
  {
   "cell_type": "markdown",
   "metadata": {},
   "source": [
    "## 3. Reconocimiento de entidades"
   ]
  },
  {
   "cell_type": "code",
   "execution_count": 12,
   "metadata": {},
   "outputs": [],
   "source": [
    "empleados = \"\"\" nombre: Nestor Campos email: nestor@micorreo.com pais: Chile org: Microsoft\n",
    "                nombre: Juana Perez email: juana@otrocorreo.cl pais: Argentina org: Apple\n",
    "                nombre: Frnacisca Leiva email: francisca.leiva@gmail.cl pais: Uruguay org: Facebook\n",
    "            \"\"\"\n"
   ]
  },
  {
   "cell_type": "code",
   "execution_count": 13,
   "metadata": {},
   "outputs": [],
   "source": [
    "empleados_spacy = nlp(empleados)"
   ]
  },
  {
   "cell_type": "code",
   "execution_count": 14,
   "metadata": {},
   "outputs": [
    {
     "name": "stdout",
     "output_type": "stream",
     "text": [
      "nestor@micorreo.com\n",
      "juana@otrocorreo.cl\n",
      "francisca.leiva@gmail.cl\n"
     ]
    }
   ],
   "source": [
    "for token in empleados_spacy:\n",
    "    if token.like_email: # like number, like url, is digit, is upper, is lower\n",
    "        print(token.text)"
   ]
  },
  {
   "cell_type": "code",
   "execution_count": 15,
   "metadata": {},
   "outputs": [
    {
     "name": "stdout",
     "output_type": "stream",
     "text": [
      "(Nestor Campos, Chile, Microsoft\n",
      "                , Juana Perez, Argentina, Apple\n",
      "                , Frnacisca Leiva, Uruguay, Facebook)\n"
     ]
    }
   ],
   "source": [
    "print(empleados_spacy.ents)"
   ]
  },
  {
   "cell_type": "code",
   "execution_count": 16,
   "metadata": {},
   "outputs": [
    {
     "name": "stdout",
     "output_type": "stream",
     "text": [
      "Nestor Campos -- PER\n",
      "Chile -- LOC\n",
      "Microsoft\n",
      "                 -- MISC\n",
      "Juana Perez -- PER\n",
      "Argentina -- LOC\n",
      "Apple\n",
      "                 -- MISC\n",
      "Frnacisca Leiva -- PER\n",
      "Uruguay -- LOC\n",
      "Facebook -- MISC\n"
     ]
    }
   ],
   "source": [
    "# Imprimir entidad y su concepto\n",
    "for entidad in empleados_spacy.ents:\n",
    "    print(entidad.text, '--', entidad.label_)"
   ]
  },
  {
   "cell_type": "code",
   "execution_count": 17,
   "metadata": {},
   "outputs": [
    {
     "data": {
      "text/html": [
       "<span class=\"tex2jax_ignore\"><div class=\"entities\" style=\"line-height: 2.5; direction: ltr\"> nombre: \n",
       "<mark class=\"entity\" style=\"background: #ddd; padding: 0.45em 0.6em; margin: 0 0.25em; line-height: 1; border-radius: 0.35em;\">\n",
       "    Nestor Campos\n",
       "    <span style=\"font-size: 0.8em; font-weight: bold; line-height: 1; border-radius: 0.35em; vertical-align: middle; margin-left: 0.5rem\">PER</span>\n",
       "</mark>\n",
       " email: nestor@micorreo.com pais: \n",
       "<mark class=\"entity\" style=\"background: #ff9561; padding: 0.45em 0.6em; margin: 0 0.25em; line-height: 1; border-radius: 0.35em;\">\n",
       "    Chile\n",
       "    <span style=\"font-size: 0.8em; font-weight: bold; line-height: 1; border-radius: 0.35em; vertical-align: middle; margin-left: 0.5rem\">LOC</span>\n",
       "</mark>\n",
       " org: \n",
       "<mark class=\"entity\" style=\"background: #ddd; padding: 0.45em 0.6em; margin: 0 0.25em; line-height: 1; border-radius: 0.35em;\">\n",
       "    Microsoft\n",
       "                \n",
       "    <span style=\"font-size: 0.8em; font-weight: bold; line-height: 1; border-radius: 0.35em; vertical-align: middle; margin-left: 0.5rem\">MISC</span>\n",
       "</mark>\n",
       "nombre: \n",
       "<mark class=\"entity\" style=\"background: #ddd; padding: 0.45em 0.6em; margin: 0 0.25em; line-height: 1; border-radius: 0.35em;\">\n",
       "    Juana Perez\n",
       "    <span style=\"font-size: 0.8em; font-weight: bold; line-height: 1; border-radius: 0.35em; vertical-align: middle; margin-left: 0.5rem\">PER</span>\n",
       "</mark>\n",
       " email: juana@otrocorreo.cl pais: \n",
       "<mark class=\"entity\" style=\"background: #ff9561; padding: 0.45em 0.6em; margin: 0 0.25em; line-height: 1; border-radius: 0.35em;\">\n",
       "    Argentina\n",
       "    <span style=\"font-size: 0.8em; font-weight: bold; line-height: 1; border-radius: 0.35em; vertical-align: middle; margin-left: 0.5rem\">LOC</span>\n",
       "</mark>\n",
       " org: \n",
       "<mark class=\"entity\" style=\"background: #ddd; padding: 0.45em 0.6em; margin: 0 0.25em; line-height: 1; border-radius: 0.35em;\">\n",
       "    Apple\n",
       "                \n",
       "    <span style=\"font-size: 0.8em; font-weight: bold; line-height: 1; border-radius: 0.35em; vertical-align: middle; margin-left: 0.5rem\">MISC</span>\n",
       "</mark>\n",
       "nombre: \n",
       "<mark class=\"entity\" style=\"background: #ddd; padding: 0.45em 0.6em; margin: 0 0.25em; line-height: 1; border-radius: 0.35em;\">\n",
       "    Frnacisca Leiva\n",
       "    <span style=\"font-size: 0.8em; font-weight: bold; line-height: 1; border-radius: 0.35em; vertical-align: middle; margin-left: 0.5rem\">PER</span>\n",
       "</mark>\n",
       " email: francisca.leiva@gmail.cl pais: \n",
       "<mark class=\"entity\" style=\"background: #ff9561; padding: 0.45em 0.6em; margin: 0 0.25em; line-height: 1; border-radius: 0.35em;\">\n",
       "    Uruguay\n",
       "    <span style=\"font-size: 0.8em; font-weight: bold; line-height: 1; border-radius: 0.35em; vertical-align: middle; margin-left: 0.5rem\">LOC</span>\n",
       "</mark>\n",
       " org: \n",
       "<mark class=\"entity\" style=\"background: #ddd; padding: 0.45em 0.6em; margin: 0 0.25em; line-height: 1; border-radius: 0.35em;\">\n",
       "    Facebook\n",
       "    <span style=\"font-size: 0.8em; font-weight: bold; line-height: 1; border-radius: 0.35em; vertical-align: middle; margin-left: 0.5rem\">MISC</span>\n",
       "</mark>\n",
       "</br>            </div></span>"
      ],
      "text/plain": [
       "<IPython.core.display.HTML object>"
      ]
     },
     "metadata": {},
     "output_type": "display_data"
    }
   ],
   "source": [
    "from spacy import displacy\n",
    "displacy.render(empleados_spacy, style = \"ent\", jupyter = True)"
   ]
  },
  {
   "cell_type": "markdown",
   "metadata": {},
   "source": [
    "## 4. Coincidencia basada en reglas"
   ]
  },
  {
   "cell_type": "code",
   "execution_count": 18,
   "metadata": {},
   "outputs": [],
   "source": [
    "mi_viaje = \"\"\"Hace un par de años visité Cuzco para conocer Machu Picchu.\n",
    "              También he visitado Argentina un par de veces.\n",
    "              La última vezm en 2020, pude visitar Boston.\n",
    "           \"\"\""
   ]
  },
  {
   "cell_type": "code",
   "execution_count": 19,
   "metadata": {},
   "outputs": [],
   "source": [
    "mi_viaje_spacy = nlp(mi_viaje)"
   ]
  },
  {
   "cell_type": "code",
   "execution_count": 20,
   "metadata": {},
   "outputs": [],
   "source": [
    "from spacy.matcher import Matcher"
   ]
  },
  {
   "cell_type": "code",
   "execution_count": 21,
   "metadata": {},
   "outputs": [],
   "source": [
    "matcher = Matcher(nlp.vocab)"
   ]
  },
  {
   "cell_type": "code",
   "execution_count": 22,
   "metadata": {},
   "outputs": [],
   "source": [
    "patron = [{\"LEMMA\":\"visitar\"},{\"POS\":\"PROPN\"}]"
   ]
  },
  {
   "cell_type": "code",
   "execution_count": 23,
   "metadata": {},
   "outputs": [],
   "source": [
    "matcher.add(\"Lugares_visitados\",[patron])"
   ]
  },
  {
   "cell_type": "code",
   "execution_count": 24,
   "metadata": {},
   "outputs": [],
   "source": [
    "coincidencias_viaje = matcher(mi_viaje_spacy)"
   ]
  },
  {
   "cell_type": "code",
   "execution_count": 25,
   "metadata": {},
   "outputs": [
    {
     "data": {
      "text/plain": [
       "[(9096919277268213772, 5, 7),\n",
       " (9096919277268213772, 15, 17),\n",
       " (9096919277268213772, 30, 32)]"
      ]
     },
     "execution_count": 25,
     "metadata": {},
     "output_type": "execute_result"
    }
   ],
   "source": [
    "coincidencias_viaje"
   ]
  },
  {
   "cell_type": "code",
   "execution_count": 26,
   "metadata": {},
   "outputs": [
    {
     "name": "stdout",
     "output_type": "stream",
     "text": [
      "visité Cuzco\n",
      "visitado Argentina\n",
      "visitar Boston\n"
     ]
    }
   ],
   "source": [
    "for id_valor, inicio,fin in coincidencias_viaje:\n",
    "    print(mi_viaje_spacy[inicio:fin].text)"
   ]
  },
  {
   "cell_type": "markdown",
   "metadata": {},
   "source": [
    "## 5. Similitud"
   ]
  },
  {
   "cell_type": "code",
   "execution_count": 32,
   "metadata": {},
   "outputs": [],
   "source": [
    "nlp = spacy.load(\"es_core_news_md\")"
   ]
  },
  {
   "cell_type": "code",
   "execution_count": 33,
   "metadata": {},
   "outputs": [],
   "source": [
    "texto1 = nlp(\"malo\")"
   ]
  },
  {
   "cell_type": "code",
   "execution_count": 34,
   "metadata": {},
   "outputs": [],
   "source": [
    "texto2 = nlp(\"terrible\")"
   ]
  },
  {
   "cell_type": "code",
   "execution_count": 35,
   "metadata": {},
   "outputs": [
    {
     "data": {
      "text/plain": [
       "0.3673310392994297"
      ]
     },
     "execution_count": 35,
     "metadata": {},
     "output_type": "execute_result"
    }
   ],
   "source": [
    "texto1.similarity(texto2)"
   ]
  },
  {
   "cell_type": "markdown",
   "metadata": {},
   "source": [
    "es_core_news_sm no contiene todos los vectores para hacer uso de las similitudes\n",
    "\n",
    "es_core_news_md soporta "
   ]
  },
  {
   "cell_type": "code",
   "execution_count": 36,
   "metadata": {},
   "outputs": [],
   "source": [
    "texto1 = nlp(\"horrible\")"
   ]
  },
  {
   "cell_type": "code",
   "execution_count": 37,
   "metadata": {},
   "outputs": [],
   "source": [
    "texto2 = nlp(\"terrible\")"
   ]
  },
  {
   "cell_type": "code",
   "execution_count": 38,
   "metadata": {},
   "outputs": [
    {
     "data": {
      "text/plain": [
       "0.7973623455625944"
      ]
     },
     "execution_count": 38,
     "metadata": {},
     "output_type": "execute_result"
    }
   ],
   "source": [
    "texto1.similarity(texto2)"
   ]
  },
  {
   "cell_type": "code",
   "execution_count": 39,
   "metadata": {},
   "outputs": [],
   "source": [
    "# Ahora con textos completos\n",
    "revision1 = nlp(\"La comida estaba deliciosa\")\n",
    "revision2 = nlp(\"La comida estaba escelente\")\n",
    "revision3 = nlp(\"No me gustó la comida\")\n",
    "revision4 = nlp(\"No me gustó la experiencia\")"
   ]
  },
  {
   "cell_type": "code",
   "execution_count": 40,
   "metadata": {},
   "outputs": [
    {
     "data": {
      "text/plain": [
       "0.9841328328436417"
      ]
     },
     "execution_count": 40,
     "metadata": {},
     "output_type": "execute_result"
    }
   ],
   "source": [
    "revision1.similarity(revision2)"
   ]
  },
  {
   "cell_type": "code",
   "execution_count": 41,
   "metadata": {},
   "outputs": [
    {
     "data": {
      "text/plain": [
       "0.9809006957988695"
      ]
     },
     "execution_count": 41,
     "metadata": {},
     "output_type": "execute_result"
    }
   ],
   "source": [
    "revision3.similarity(revision4)"
   ]
  },
  {
   "cell_type": "code",
   "execution_count": null,
   "metadata": {},
   "outputs": [],
   "source": [
    "revision1.similarity(revision2)"
   ]
  }
 ],
 "metadata": {
  "kernelspec": {
   "display_name": "Python 3",
   "language": "python",
   "name": "python3"
  },
  "language_info": {
   "codemirror_mode": {
    "name": "ipython",
    "version": 3
   },
   "file_extension": ".py",
   "mimetype": "text/x-python",
   "name": "python",
   "nbconvert_exporter": "python",
   "pygments_lexer": "ipython3",
   "version": "3.7.6"
  }
 },
 "nbformat": 4,
 "nbformat_minor": 4
}
